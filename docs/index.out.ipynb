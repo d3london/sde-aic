{
 "cells": [
  {
   "cell_type": "markdown",
   "metadata": {},
   "source": [
    "# London SDE/AIC Programme: Introduction and Proposed Use-Cases\n",
    "\n",
    "Dr. Joe Zhang (London AI Centre)  \n",
    "Prof. James Teo (London AI Centre)  \n",
    "Dr. Jorge Cardoso (London AI Centre)  \n",
    "Jawad Chaudhry (London AI Centre)  \n",
    "Sigal Hachlili (London AI Centre)\n",
    "\n",
    "*Version 0.5 (last updated 2024 Apr 7)*\n",
    "\n",
    "## Introduction\n",
    "\n",
    "The [London AI Centre](https://www.aicentre.co.uk/) (AIC) has been commissioned as part of the London Secure Data Environment (SDE) programme for its latest phase: to extend AI technologies and analytics capabilities to stakeholders and data environments across London. This document summarises the latest state of planning for the programme, as an aid to internal and external stakeholders including Integrated Care Boards and the wider London NHS ecosystem.\n",
    "\n",
    "## What is the London SDE?\n",
    "\n",
    "The London Secure Data Environment (SDE) is a pan-London NHS programme that is part of a national effort to enable secure and more powerful analytics for NHS, academic, and commercial users. Uniquely amongst regional peers, the London SDE does not focus on a single research platform. Rather, it places a focus on developing data infrastructure and capabilities that can support population health, care providers, and commissioners. This is in addition to building data environments that enable commercial research and development partnerships.\n",
    "\n",
    "The SDE is led by **OneLondon**, as part of an overarching London Health Data Strategy, coalescing around three components (<a href=\"#fig-sde-summary\" class=\"quarto-xref\">Figure 1</a>):\n",
    "\n",
    "1.  **London Data Service (LDS)**: hosted in North-East London, the LDS serves as a data engineering and service layer for pan-London primary care and secondary care data. It handles data extraction and linkage, and provisions data warehouses and secure analytics environments for both research and NHS users.\n",
    "\n",
    "2.  **DiscoverNOW Research/Analytics Environment**: run by Imperial College Healthcare Partners, DiscoverNOW supports governance and operation of secure research environments for academic, commercial, and NHS research and analytics.\n",
    "\n",
    "3.  **London AI Centre (AIC)**: a national centre of excellence for applied data science and AI, the AIC provides frontier technology for data enrichment (CogStack), federated analytics (FLIP), and deployment of machine learning tools, as well as expertise in health data and advanced analytics."
   ],
   "id": "554b7bf7-6f5a-464a-9376-4ea35b14256b"
  },
  {
   "cell_type": "code",
   "execution_count": null,
   "metadata": {
    "fig-width": 6,
    "layout-align": "default"
   },
   "outputs": [
    {
     "output_type": "display_data",
     "metadata": {},
     "data": {
      "text/html": [
       "<pre class=\"mermaid mermaid-js\" data-label=\"fig-sde-summary\">flowchart TD\n",
       "    d1[GP Surgeries] ==&gt;|Primary care data| LDS1[(London Data Service)]\n",
       "    d2[NHS Digital] ==&gt;|Commissioning datasets| LDS1\n",
       "    d3[Local data sources] ==&gt;|ICS data| ICB\n",
       "    AIC1[&quot;CogStack in Trusts&quot;] ==&gt;|&quot;Unstructured data \n",
       "                                          (hospitals)&quot;| LDS1\n",
       "    LDS1==&gt; AIC1a[&quot;CogStack in LDS&quot;]\n",
       "    AIC1a==&gt;|&quot;Unstructured data \n",
       "                (primary care)&quot;| LDS1\n",
       "    LDS1 ==&gt;|Linked data| NWL1[(NWL Research/Analytics Environment)]\n",
       "\n",
       "    AIC2[&quot;AIC FLIP&quot;] ==&gt; |&quot;Multi-modal data \n",
       "                                          (imaging metadata)&quot;| NWL1\n",
       "    AIC2 ==&gt; |Hospital cancer data| LDS1\n",
       "    LDS1 ==&gt;|Linked data| ICB[(&quot;Integrated Care Board Sandpits \n",
       "                                x5: NEL/SEL/SWL/NWL/NCL&quot;)]\n",
       "\n",
       "    ICB &lt;==&gt;|Collaborative analytics| AIC3[AIC Data/AI Hub]\n",
       "    ICB &lt;==&gt;|Output Sharing| LDS2[Terminology/Code/Model Servers]\n",
       "    AIC3 &lt;==&gt;|Output Sharing| LDS2\n",
       "    NWL1 &lt;==&gt;|Output Sharing| LDS2\n",
       "\n",
       "    classDef green fill:#ab9, stroke:#333, stroke-width:1px\n",
       "    classDef blue fill:#89c, stroke:#333, stroke-width:1px\n",
       "    classDef bluegreen fill:#9ca, stroke:#333, stroke-width:1px\n",
       "    classDef lightblue fill:#ace, stroke:#333, stroke-width:1px\n",
       "    classDef red fill:#c89, stroke:#333, stroke-width:1px\n",
       "    classDef lightorange fill:#ca8, stroke:#333, stroke-width:1px\n",
       "    classDef orange fill:#d96, stroke:#333, stroke-width:1px\n",
       "    classDef purple fill:#a9c, stroke:#333, stroke-width:1px\n",
       "    classDef bluegray fill:#9ab, stroke:#333, stroke-width:1px\n",
       "    classDef gray fill:#fff, stroke:#333, stroke-width:1px\n",
       "\n",
       "    class LDS1,LDS2 blue\n",
       "    class ICB lightblue\n",
       "    class AIC1,AIC1a,AIC2,AIC3 orange\n",
       "    class NWL1,NWL2 bluegray\n",
       "    class d1,d2,d3 bluegreen\n",
       "</pre>"
      ]
     }
    }
   ],
   "source": [],
   "id": "8b87f115-04c2-4651-adee-80532300a7f9"
  },
  {
   "cell_type": "markdown",
   "metadata": {},
   "source": [
    "## Technology and objectives\n",
    "\n",
    "The contribution from the London AIC consists of technology deployment and supporting expertise, that enable a number of objectives (<a href=\"#fig-aic-objectives\" class=\"quarto-xref\">Figure 2</a>) over the two year programme. This contribution includes the following:\n",
    "\n",
    "1.  **Federated Learning and Interoperability Platform (FLIP)**: Developed and tested over four years, FLIP consists of (a) secure data environments within NHS hospital Trusts for multi-modal imaging data, imaging metadata, and structured health record data in a common data model; and (b) a mechanism to query data and train AI models across these secure enclaves without the need to physically transfer data. FLIP is presently installed in four major London Trusts. Integrating FLIP into the SDE will enable hospital data (such as cancer data) to be surfaced into the LDS, and multi-modal capabilities to support research in precision healthcare.\n",
    "\n",
    "2.  **CogStack**: As an advanced natural language processing platform, CogStack can turn the large quantities of health information that are found in narrative text, into structured and analysable data. Currently actively used in Trusts to assist with clinical coding from notes and clinic letters, CogStack can surface secondary care and cancer pathway data, and previously unseen primary care data, into the SDE ecosystem.\n",
    "\n",
    "3.  **AIC Data/AI Hub**: The AIC hosts substantial health data and AI implementation expertise, that will provide practical support in data engineering, clinical informatics, data science, and machine learning (ML) development and deployment. Primary aims are to (a) help Integrated Care Boards (ICB) migrate data pipelines and analytics onto the LDS, (b) produce reproducible analytics pipelines for data science and predictive analytics capabilities, (c) work together to make ICBs self-sufficient in these capabilities."
   ],
   "id": "46695662-0f40-4ea5-be19-d6d065abc2a8"
  },
  {
   "cell_type": "code",
   "execution_count": null,
   "metadata": {
    "fig-width": 6,
    "layout-align": "default"
   },
   "outputs": [
    {
     "output_type": "display_data",
     "metadata": {},
     "data": {
      "text/html": [
       "<pre class=\"mermaid mermaid-js\" data-label=\"fig-aic-objectives\">flowchart LR\n",
       "    FLIP[&quot;FLIP&quot;] ==&gt; A1[&quot;Standardising hospital \n",
       "                          imaging metadata&quot;] \n",
       "    FLIP ==&gt; A2[Technology installation]\n",
       "    A1 ==&gt; A3[&quot;Federated model training\n",
       "              for research collaborations&quot;]\n",
       "    A2 ==&gt; A3\n",
       "\n",
       "    A2 ==&gt; A4[&quot;Enabling hospital \n",
       "              data queries&quot;]\n",
       "    B1 ==&gt; A4\n",
       "\n",
       "    COG[&quot;CogStack&quot;] ==&gt; B1[&quot;Standardising hospital \n",
       "                            cancer data&quot;]\n",
       "    COG ==&gt; B2[LDS installation] ==&gt; B3[&quot;Standardising primary care \n",
       "                                      unstructured data&quot;]\n",
       "\n",
       "    A4 ==&gt; C3\n",
       "    B3 ==&gt; C3\n",
       "\n",
       "    HUB[Data/AI Hub] ==&gt; C1[&quot;Assisting ICBs with migration \n",
       "                              of existing pipelines&quot;]\n",
       "    C1 ==&gt; C2[&quot;Building standardised \n",
       "                cohort pipelines&quot;]\n",
       "    C2 ==&gt; C3[&quot;Building reproducible analytics/ML \n",
       "              pipelines with sharable code base&quot;]\n",
       "\n",
       "    classDef yellow fill:#ed6, stroke:#333, stroke-width:1px\n",
       "    classDef lightorange fill:#fb3, stroke:#333, stroke-width:1px\n",
       "    classDef orange fill:#f81, stroke:#333, stroke-width:1px\n",
       "\n",
       "    classDef yellowbase fill:#ed6, stroke:#333, stroke-width:4px\n",
       "    classDef lightorangebase fill:#fb3, stroke:#333, stroke-width:4px\n",
       "    classDef orangebase fill:#f81, stroke:#333, stroke-width:4px\n",
       "\n",
       "    class FLIP yellowbase\n",
       "    class A1,A2,A3,A4 yellow\n",
       "    class COG lightorangebase\n",
       "    class B1,B2,B3 lightorange\n",
       "    class HUB orangebase\n",
       "    class C1,C2,C3 orange\n",
       "</pre>"
      ]
     }
    }
   ],
   "source": [],
   "id": "d2aa7e68-6df2-4808-8a0a-8cf3ffc734d5"
  },
  {
   "cell_type": "markdown",
   "metadata": {},
   "source": [
    "Of relevance to ICBs, resources are available to support migration of existing analytics into LDS Snowflake ‘Sandpits’, and constructing standard patient phenotype/cohort using definitions hosted on a London terminology server. This will support building more complex reproducible analytics/machine learning pipelines, and delivery of ‘last mile’ insights to clinicians. As the LDS ICB environments share a common data model, any pipelines created in collaboration with a single ICB, can be adapted and used for any other ICB (or deployed across multiple environments to create pan-London insights). This will also facilitate shared terminologies, and validating/versioning/serving NHS-owned machine learning models across regions.\n",
    "\n",
    "## Proposed use-cases\n",
    "\n",
    "The following use-cases are *examples* of analytics projects that can be supported within the SDE ecosystem, in collaboration between ICB/NHS analytics teams and the AIC/SDE team. Use-cases align to the London Health Data Strategy and long term condition priorities, as well as national programmes such as CORE20PLUS5, and are proposed here following early discussions with London ICBs. An overarching objective for any work is to build a code base that can be shared between ICBs and improved collaboratively.\n",
    "\n",
    "### Systematic measurement of group and individual health inequality\n",
    "\n",
    "**AIM:** To systematically surface multiple dimensions of health inequality across sociodemographic/geospatial groups and individual patients, and to monitor this data continuously across key long-term conditions.\n",
    "\n",
    "**SUMMARY:** Health inequality refers to measurable differences in health outcomes and determinants between individuals or groups (e.g. morbidity, co-morbidity, disease complications/death, healthcare access, disease screening, treatment delivery). Where individuals and groups experience health inequality, the principle of health *equity* emphases the importance of reducing disparities by modifying outcome determinants that are unfairly distributed.\n",
    "\n",
    "Health inequality is traditionally measured and visualised as a comparison of prevalence/incidence across different population groups. While helpful for broad insights, this offers limited understanding of complex individual circumstances. This type of measurement can be extended to individual patients, by using clinical domain knowledge to define ‘indicators’ of unequal disease, diagnosis, and treatment pathways. For example, in an individual with Diabetes Mellitus, indicators of inequality can include:"
   ],
   "id": "9697cfd7-2ebe-4c2b-840f-1fa82e0a2917"
  },
  {
   "cell_type": "raw",
   "metadata": {
    "raw_mimetype": "text/html"
   },
   "source": [
    "<ol type=\"a\">"
   ],
   "id": "eaa4e12f-b371-4d4e-8d25-e242c9ac6c33"
  },
  {
   "cell_type": "raw",
   "metadata": {
    "raw_mimetype": "text/html"
   },
   "source": [
    "<li>"
   ],
   "id": "a834907e-c7d7-491b-b7a7-ad6285e3f7a3"
  },
  {
   "cell_type": "markdown",
   "metadata": {},
   "source": [
    "Diabetes surfacing at an early age;"
   ],
   "id": "8487a688-3c1a-4ce7-93aa-13baf89c0552"
  },
  {
   "cell_type": "raw",
   "metadata": {
    "raw_mimetype": "text/html"
   },
   "source": [
    "</li>"
   ],
   "id": "b368d6ed-6719-4092-8151-d97a7f40cf3e"
  },
  {
   "cell_type": "raw",
   "metadata": {
    "raw_mimetype": "text/html"
   },
   "source": [
    "<li>"
   ],
   "id": "c433d381-3bb9-4f7b-a9fd-12862ea65f3b"
  },
  {
   "cell_type": "markdown",
   "metadata": {},
   "source": [
    "Diagnosis in proximity to cardiovascular risk factor co-morbidities;"
   ],
   "id": "d6c203c9-9a4d-4868-bdbf-aa355b3fead3"
  },
  {
   "cell_type": "raw",
   "metadata": {
    "raw_mimetype": "text/html"
   },
   "source": [
    "</li>"
   ],
   "id": "13e73542-7693-44c3-8608-782b22fb1f47"
  },
  {
   "cell_type": "raw",
   "metadata": {
    "raw_mimetype": "text/html"
   },
   "source": [
    "<li>"
   ],
   "id": "fb16d7fb-7f6c-4498-a751-c3f138f318be"
  },
  {
   "cell_type": "markdown",
   "metadata": {},
   "source": [
    "Diagnosis at a *late* age but with more severe disease, as measured by HbA1c or presence of end-organ complications;"
   ],
   "id": "63364cfb-fb62-439c-b5bf-a86ad434dace"
  },
  {
   "cell_type": "raw",
   "metadata": {
    "raw_mimetype": "text/html"
   },
   "source": [
    "</li>"
   ],
   "id": "8daf1827-fc48-46f8-be56-6cba81cd036d"
  },
  {
   "cell_type": "raw",
   "metadata": {
    "raw_mimetype": "text/html"
   },
   "source": [
    "<li>"
   ],
   "id": "9b77767e-affd-4cca-a302-b468fcad3a54"
  },
  {
   "cell_type": "markdown",
   "metadata": {},
   "source": [
    "Reduced health engagement/encounters/treatment compared to what is expected based on disease severity;"
   ],
   "id": "1cbacdb8-a6df-4543-8ead-152f42c18541"
  },
  {
   "cell_type": "raw",
   "metadata": {
    "raw_mimetype": "text/html"
   },
   "source": [
    "</li>"
   ],
   "id": "bb3036d3-7ec0-41de-bfbe-ee4c35fd2549"
  },
  {
   "cell_type": "raw",
   "metadata": {
    "raw_mimetype": "text/html"
   },
   "source": [
    "<li>"
   ],
   "id": "5ea5cbe8-cfe3-437e-9206-d328f5f778b5"
  },
  {
   "cell_type": "markdown",
   "metadata": {},
   "source": [
    "Shorter time to complications and mortality following diagnosis."
   ],
   "id": "530a14bb-b7e3-499c-8f8d-2baf57cf68f2"
  },
  {
   "cell_type": "raw",
   "metadata": {
    "raw_mimetype": "text/html"
   },
   "source": [
    "</li>"
   ],
   "id": "f2dc9e7b-1d0f-4ab0-bf1f-9bbbae22bb59"
  },
  {
   "cell_type": "raw",
   "metadata": {
    "raw_mimetype": "text/html"
   },
   "source": [
    "</ol>"
   ],
   "id": "4c2994f6-f788-49a1-8779-5231e35570d3"
  },
  {
   "cell_type": "markdown",
   "metadata": {},
   "source": [
    "The precise contribution of factors to outcomes can be measured and understood in a multivariate statistical model. Overall, the presence and magnitude of indicators can be used to visualise, monitor, and explain different types of inequality, including through comparison of groups and individuals to ‘what is expected’ in a background population. The outcome is an increase in actionability, with identification of modifiable determinants of inequality ( = inequity) for small groups and individuals.\n",
    "\n",
    "**METHODS:** The below shows an example workflow for Diabetes Mellitus, but can be applied to any long-term condition (not including cancer)."
   ],
   "id": "01535280-2f50-418c-936d-04faed0a9f08"
  },
  {
   "cell_type": "code",
   "execution_count": null,
   "metadata": {
    "fig-width": 6,
    "layout-align": "default"
   },
   "outputs": [
    {
     "output_type": "display_data",
     "metadata": {},
     "data": {
      "text/html": [
       "<pre class=\"mermaid mermaid-js\">flowchart LR\n",
       "    A[&quot;Define terminologies for condition\n",
       "        and supporting concepts&quot;] ==&gt; B[&quot;Reproducible pipelines creating per \n",
       "                                      group summary prevalence/incidence\n",
       "                                      for any given cohort definition&quot;]\n",
       "    \n",
       "    C[&quot;Define inequality indicators for \n",
       "    given condition based on domain\n",
       "    knowledge and existing evidence&quot;] ==&gt; D[&quot;Multivariate regression and survival\n",
       "                                              models to understand significance of\n",
       "                                            inequality indicators on outcomes&quot;]\n",
       "\n",
       "    A ==&gt; D\n",
       "\n",
       "    D==&gt;E[&quot;Given definition of group or individual: \n",
       "            visualise indicators of inequality \n",
       "            vs relevant baseline population&quot;]\n",
       "\n",
       "    classDef gray fill:#fff, stroke:#333, stroke-width:1px\n",
       "\n",
       "    class A,B,C,D,E gray\n",
       "</pre>"
      ]
     }
    }
   ],
   "source": [],
   "id": "14b1a92b-a35d-4fbf-b8da-44735affd52a"
  },
  {
   "cell_type": "markdown",
   "metadata": {},
   "source": [
    "**OUTPUTS:** The primary output of this project would be a code-base that takes a cohort definition and a list of indicators as an input, and can be run to produce summary tables and statistics for groups and individual patients (where required). The code can be adapted by ICBs and used to support local dashboards. Code can be used for higher-level interval reporting and monitoring for the London region.\n",
    "\n",
    "### Cardiovascular disease prevention through decision intelligence\n",
    "\n",
    "### Actionable admission risk stratification\n",
    "\n",
    "### Joining up cancer pathways\n",
    "\n",
    "###"
   ],
   "id": "796c41d5-266e-4fbf-b948-68dbb26093c5"
  }
 ],
 "nbformat": 4,
 "nbformat_minor": 5,
 "metadata": {}
}
