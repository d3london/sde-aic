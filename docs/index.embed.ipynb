{
 "cells": [
  {
   "cell_type": "markdown",
   "metadata": {},
   "source": [
    "# London SDE/AIC Programme: Introduction and Proposed Use-Cases\n",
    "\n",
    "Dr. Joe Zhang (London AI Centre)  \n",
    "Prof. James Teo (London AI Centre)  \n",
    "Dr. Jorge Cardoso (London AI Centre)  \n",
    "Jawad Chaudhry (London AI Centre)  \n",
    "Sigal Hachlili (London AI Centre)\n",
    "\n",
    "*Version 0.5 (last updated 2024 Apr 7)*\n",
    "\n",
    "## Introduction\n",
    "\n",
    "The [London AI Centre](https://www.aicentre.co.uk/) (AIC) has been commissioned as part of the London Secure Data Environment (SDE) programme for its latest phase: to extend AI technologies and analytics capabilities to stakeholders and data environments across London. This document summarises the latest state of planning for the programme, as an aid to internal and external stakeholders including Integrated Care Boards and the wider London NHS ecosystem.\n",
    "\n",
    "## What is the London SDE?\n",
    "\n",
    "The London Secure Data Environment (SDE) is a pan-London NHS programme that is part of a national effort to enable secure and more powerful analytics for NHS, academic, and commercial users. Uniquely amongst regional peers, the London SDE does not focus on a single research platform. Rather, it places a focus on developing data infrastructure and capabilities that can support population health, care providers, and commissioners. This is in addition to building data environments that enable commercial research and development partnerships.\n",
    "\n",
    "The SDE is led by **OneLondon**, as part of an overarching London Health Data Strategy, coalescing around three components (@fig-sde-summary):\n",
    "\n",
    "1.  **London Data Service (LDS)**: hosted in North-East London, the LDS serves as a data engineering and service layer for pan-London primary care and secondary care data. It handles data extraction and linkage, and provisions data warehouses and secure analytics environments for both research and NHS users.\n",
    "\n",
    "2.  **DiscoverNOW Research/Analytics Environment**: run by Imperial College Healthcare Partners, DiscoverNOW supports governance and operation of secure research environments for academic, commercial, and NHS research and analytics.\n",
    "\n",
    "3.  **London AI Centre (AIC)**: a national centre of excellence for applied data science and AI, the AIC provides frontier technology for data enrichment (CogStack), federated analytics (FLIP), and deployment of machine learning tools, as well as expertise in health data and advanced analytics."
   ],
   "id": "df89c771-8ae2-464b-bc31-c8149184ec25"
  },
  {
   "cell_type": "code",
   "execution_count": null,
   "metadata": {
    "fig-width": 5,
    "layout-align": "default"
   },
   "outputs": [
    {
     "output_type": "display_data",
     "metadata": {},
     "data": {
      "text/html": [
       "<pre class=\"mermaid mermaid-js\" data-label=\"fig-sde-summary\">flowchart TD\n",
       "    d1[GP Surgeries] ==&gt;|Primary care data| LDS1[(London Data Service)]\n",
       "    d2[NHS Digital] ==&gt;|Commissioning datasets| LDS1\n",
       "    d3[Local data sources] ==&gt;|ICS data| ICB\n",
       "    AIC1[&quot;CogStack in Trusts&quot;] ==&gt;|&quot;Unstructured data \n",
       "                                          (hospitals)&quot;| LDS1\n",
       "    LDS1==&gt; AIC1a[&quot;CogStack in LDS&quot;]\n",
       "    AIC1a==&gt;|&quot;Unstructured data \n",
       "                (primary care)&quot;| LDS1\n",
       "    LDS1 ==&gt;|Linked data| NWL1[(NWL Research/Analytics Environment)]\n",
       "\n",
       "    AIC2[&quot;AIC FLIP&quot;] ==&gt; |&quot;Multi-modal data \n",
       "                                          (imaging metadata)&quot;| NWL1\n",
       "    AIC2 ==&gt; |Hospital cancer data| LDS1\n",
       "    LDS1 ==&gt;|Linked data| ICB[(&quot;Integrated Care Board Sandpits \n",
       "                                x5: NEL/SEL/SWL/NWL/NCL&quot;)]\n",
       "\n",
       "    ICB &lt;==&gt;|Collaborative analytics| AIC3[AIC Data/AI Hub]\n",
       "    ICB &lt;==&gt;|Output Sharing| LDS2[Terminology/Code/Model Servers]\n",
       "    AIC3 &lt;==&gt;|Output Sharing| LDS2\n",
       "    NWL1 &lt;==&gt;|Output Sharing| LDS2\n",
       "\n",
       "    classDef green fill:#ab9, stroke:#333, stroke-width:1px\n",
       "    classDef blue fill:#89c, stroke:#333, stroke-width:1px\n",
       "    classDef bluegreen fill:#9ca, stroke:#333, stroke-width:1px\n",
       "    classDef lightblue fill:#ace, stroke:#333, stroke-width:1px\n",
       "    classDef red fill:#c89, stroke:#333, stroke-width:1px\n",
       "    classDef lightorange fill:#ca8, stroke:#333, stroke-width:1px\n",
       "    classDef orange fill:#d96, stroke:#333, stroke-width:1px\n",
       "    classDef purple fill:#a9c, stroke:#333, stroke-width:1px\n",
       "    classDef bluegray fill:#9ab, stroke:#333, stroke-width:1px\n",
       "    classDef gray fill:#fff, stroke:#333, stroke-width:1px\n",
       "\n",
       "    class LDS1,LDS2 blue\n",
       "    class ICB lightblue\n",
       "    class AIC1,AIC1a,AIC2,AIC3 orange\n",
       "    class NWL1,NWL2 bluegray\n",
       "    class d1,d2,d3 bluegreen\n",
       "</pre>"
      ]
     }
    }
   ],
   "source": [],
   "id": "a2f1b5ac-c20d-42ce-927e-e6cea51b22d0"
  },
  {
   "cell_type": "markdown",
   "metadata": {},
   "source": [
    "## Technology and objectives\n",
    "\n",
    "The contribution from the London AIC consists of technology deployment and supporting expertise, that enable a number of key objectives (@fig-aic-objectives) over the two year programme. This contribution includes the following:\n",
    "\n",
    "1.  **Federated Learning and Interoperability Platform (FLIP)**: Developed and tested over four years, FLIP consists of (a) secure data environments within NHS hospital Trusts for multi-modal imaging data and structured data in a common data model; and (b) a mechanism to query data and train AI models across these secure enclaves without the need to physically transfer data. FLIP is presently installed in four major London Trusts. Integrating FLIP into the SDE will enable hospital data (such as cancer data) to be surfaced into the LDS, and multi-modal capabilities to support research in precision healthcare.\n",
    "\n",
    "2.  **CogStack**: As an advanced natural language processing platform, CogStack can turn the large quantities of health information that are found in narrative text, into structured and analysable data. Currently actively used in Trusts to assist with clinical coding from notes and clinic letters, CogStack can surface secondary care and cancer pathway data, and previously unseen primary care data, into the SDE ecosystem.\n",
    "\n",
    "3.  **AIC Data/AI Hub**: The AIC hosts substantial health data and AI implementation expertise, that will provide practical support in data operations, engineering, analytics, and machine learning development and deployment. A primary aim is to help Integrated Care Boards (ICB) migrate data pipelines and analytics onto the LDS, and to produce reproducible analytics pipelines for data science and predictive analytics capabilities. As the LDS ICB environments share a common data model, any pipelines created in collaboration with a single ICB, can be adapted and used for any other ICB (or deployed across multiple environments to create pan-London insights). This will also facilitate shared terminologies, and validating/versioning/serving NHS-owned machine learning models across regions."
   ],
   "id": "e45080fe-46ae-4b4a-a955-e6e45b33e10c"
  },
  {
   "cell_type": "code",
   "execution_count": null,
   "metadata": {
    "fig-width": 6,
    "layout-align": "default"
   },
   "outputs": [
    {
     "output_type": "display_data",
     "metadata": {},
     "data": {
      "text/html": [
       "<pre class=\"mermaid mermaid-js\" data-label=\"fig-aic-objectives\">flowchart LR\n",
       "    FLIP[&quot;FLIP&quot;] ==&gt; A1[&quot;Standardising hospital \n",
       "                          imaging metadata&quot;] \n",
       "    FLIP ==&gt; A2[Technology installation]\n",
       "    A1 ==&gt; A3[&quot;Federated model training\n",
       "              for research collaborations&quot;]\n",
       "    A2 ==&gt; A3\n",
       "\n",
       "    A2 ==&gt; A4[&quot;Enabling hospital \n",
       "              data queries&quot;]\n",
       "    B1 ==&gt; A4\n",
       "\n",
       "    COG[&quot;CogStack&quot;] ==&gt; B1[&quot;Standardising hospital \n",
       "                            cancer data&quot;]\n",
       "    COG ==&gt; B2[LDS installation] ==&gt; B3[&quot;Standardising primary care \n",
       "                                      unstructured data&quot;]\n",
       "\n",
       "    A4 ==&gt; C3\n",
       "    B3 ==&gt; C3\n",
       "\n",
       "    HUB[Data/AI Hub] ==&gt; C1[&quot;Assisting ICBs with migration \n",
       "                              of existing pipelines&quot;]\n",
       "    C1 ==&gt; C2[&quot;Building standardised \n",
       "                cohort pipelines&quot;]\n",
       "    C2 ==&gt; C3[&quot;Building reproducible analytics/ML \n",
       "              pipelines with sharable code base&quot;]\n",
       "\n",
       "    classDef yellow fill:#ed6, stroke:#333, stroke-width:1px\n",
       "    classDef lightorange fill:#fb3, stroke:#333, stroke-width:1px\n",
       "    classDef orange fill:#f81, stroke:#333, stroke-width:1px\n",
       "\n",
       "    classDef yellowbase fill:#ed6, stroke:#333, stroke-width:4px\n",
       "    classDef lightorangebase fill:#fb3, stroke:#333, stroke-width:4px\n",
       "    classDef orangebase fill:#f81, stroke:#333, stroke-width:4px\n",
       "\n",
       "    class FLIP yellowbase\n",
       "    class A1,A2,A3,A4 yellow\n",
       "    class COG lightorangebase\n",
       "    class B1,B2,B3 lightorange\n",
       "    class HUB orangebase\n",
       "    class C1,C2,C3 orange\n",
       "</pre>"
      ]
     }
    }
   ],
   "source": [],
   "id": "349d1a51-8ada-45bb-af3d-2ade44837de3"
  },
  {
   "cell_type": "markdown",
   "metadata": {},
   "source": [
    "## Proposed use-cases\n",
    "\n",
    "The following use-cases are *examples* of the type of work that are possible to produce within the SDE ecosystem, conducted collaboratively between ICB/NHS analytics teams and the AIC. Use-cases align to the London Health Data Strategy and long term condition priorities, as well as national programmes such as CORE20PLUS5, and are proposed here following early discussions with London ICBs. An overarching objective for any work is to build a reproducible code base that is sharable between ICBs, and which can be optimised for local uses/dashboards, or used to create aggregated pan-London insights.\n",
    "\n",
    "Prior to any of the below projects being conducted, SDE/AIC resources are also available to help ICBs migrate their current pipelines and dashboards into the new LDS data environments (@fig-aic-objectives).\n",
    "\n",
    "### Systematic measurement of group and individual health inequality\n",
    "\n",
    "### Cardiovascular disease prevention through decision intelligence (Hypertension as an example)\n",
    "\n",
    "### Actionable admission risk stratification\n",
    "\n",
    "### Joining up cancer pathways\n",
    "\n",
    "###"
   ],
   "id": "0633c99e-4b9b-4a43-9097-8bfee555326a"
  }
 ],
 "nbformat": 4,
 "nbformat_minor": 5,
 "metadata": {}
}
