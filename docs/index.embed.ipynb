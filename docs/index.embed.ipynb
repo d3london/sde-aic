{
 "cells": [
  {
   "cell_type": "markdown",
   "metadata": {},
   "source": [
    "# Introduction to the London SDE / AI Centre Programme\n",
    "\n",
    "Dr. Joe Zhang (London AI Centre)  \n",
    "Prof. James Teo (London AI Centre)\n",
    "\n",
    "## Introduction\n",
    "\n",
    "## What is the London SDE?\n",
    "\n",
    "The London Secure Data Environment (SDE) programme is part of a national effort to enable secure and more powerful analytics for NHS, academic, and commercial users. Uniquely amongst regional peers, the London SDE does not focus on a single research platform. Rather, it places a focus on developing pan-London data infrastructure and capabilities that can deliver value to patients, care providers, and commissioners. This is in addition to building data environments that support commercial research and development partnerships.\n",
    "\n",
    "The SDE is presently led by **OneLondon**, as part of an overarching London Health Data Strategy, coalescing around three components (@fig-sde-summary).\n",
    "\n",
    "1.  **London Data Service (LDS)**: hosted in North-East London, the LDS serves as a data engineering and service layer for pan-London primary care and secondary care data. It handles data extraction and linkage, and provisions data warehouses and secure analytics environments for both research and NHS users.\n",
    "\n",
    "2.  **DiscoverNOW Research/Analytics Environment**: run by Imperial College Healthcare Partners, DiscoverNOW supports governance and operation of secure research environments for academic, commercial, and NHS research and analytics.\n",
    "\n",
    "3.  **London AI Centre (AIC)**: a national centre of excellence for applied data science and AI, the AIC provides frontier technology for data enrichment, federated analytics, and deployment of machine learning tools, as well as expertise in health data and advanced analytics."
   ],
   "id": "8c122cce-d193-41cb-9a0d-6302f0462ba1"
  },
  {
   "cell_type": "code",
   "execution_count": null,
   "metadata": {
    "layout-align": "default"
   },
   "outputs": [
    {
     "output_type": "display_data",
     "metadata": {},
     "data": {
      "text/html": [
       "<pre class=\"mermaid mermaid-js\" data-label=\"fig-sde-summary\">flowchart TD\n",
       "    d1[GP Surgeries] ==&gt;|Primary care data| LDS1[(London Data Service)]\n",
       "    d2[NHS Digital] ==&gt;|Commissioning data| LDS1\n",
       "    d3[Local data sources] ==&gt;|Other ICB data| ICB\n",
       "    AIC1[AIC CogStack] ==&gt;|Unstructured data| LDS1\n",
       "    LDS1 ==&gt;|Linked data| NWL1[(NWL Research/Analytics Environment)]\n",
       "    AIC2[AIC FLIP] ==&gt; |Multi-modal data| NWL1\n",
       "    AIC2[AIC FLIP] ==&gt; |Hospital cancer data| LDS1\n",
       "    LDS1 ==&gt;|Linked data| ICB[(Integrated Care Board Sandpits x5)]\n",
       "\n",
       "    ICB &lt;==&gt;|Collaborative analytics| AIC3[AIC Data/AI Hub]\n",
       "    ICB &lt;==&gt;|Output Sharing| LDS2[Terminology/Code/Model sharing]\n",
       "    AIC3 &lt;==&gt;|Output Sharing| LDS2\n",
       "    NWL1 &lt;==&gt;|Output Sharing| LDS2\n",
       "\n",
       "    classDef green fill:#ab9, stroke:#333, stroke-width:1px\n",
       "    classDef blue fill:#89c, stroke:#333, stroke-width:1px\n",
       "    classDef bluegreen fill:#9ca, stroke:#333, stroke-width:1px\n",
       "    classDef red fill:#c89, stroke:#333, stroke-width:1px\n",
       "    classDef lightorange fill:#ca8, stroke:#333, stroke-width:1px\n",
       "    classDef orange fill:#c98, stroke:#333, stroke-width:1px\n",
       "    classDef purple fill:#a9c, stroke:#333, stroke-width:1px\n",
       "    classDef bluegray fill:#9ab, stroke:#333, stroke-width:1px\n",
       "    classDef gray fill:#fff, stroke:#333, stroke-width:1px\n",
       "\n",
       "    class LDS1,LDS2 blue\n",
       "    class ICB bluegreen\n",
       "    class AIC1,AIC2,AIC3 orange\n",
       "    class NWL1,NWL2 green\n",
       "    class d1,d2,d3 bluegray\n",
       "</pre>"
      ]
     }
    }
   ],
   "source": [],
   "id": "383ac829-c208-47b2-85aa-2ba574bf6a4a"
  },
  {
   "cell_type": "markdown",
   "metadata": {},
   "source": [
    "## Role of the London AI Centre\n",
    "\n",
    "## Ways of working\n",
    "\n",
    "## Broad objectives and work packages\n",
    "\n",
    "## Proposed use-cases"
   ],
   "id": "181081e0-0c13-4140-b97e-ca0370c03c6b"
  }
 ],
 "nbformat": 4,
 "nbformat_minor": 5,
 "metadata": {}
}
